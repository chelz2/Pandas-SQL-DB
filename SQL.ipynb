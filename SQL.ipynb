{
  "metadata": {
    "kernelspec": {
      "name": "python",
      "display_name": "Python (Pyodide)",
      "language": "python"
    },
    "language_info": {
      "codemirror_mode": {
        "name": "python",
        "version": 3
      },
      "file_extension": ".py",
      "mimetype": "text/x-python",
      "name": "python",
      "nbconvert_exporter": "python",
      "pygments_lexer": "ipython3",
      "version": "3.8"
    }
  },
  "nbformat_minor": 4,
  "nbformat": 4,
  "cells": [
    {
      "cell_type": "markdown",
      "source": "# datas io with SQL database in pandas as dataframes\n\n##### > reading & writing SQL database tables in pandas as dtaframes ",
      "metadata": {}
    },
    {
      "cell_type": "code",
      "source": "# pandas cal read & write to diff SQL adtabase engines using both drivers & python's sqlalchamy library for SQL DB\n\n### behind scenes -\n# connecting pandas with specific SQL engine - MySQL, Postgre etc ---> we'll use python's built SQLite engine\n\n# install approprite python driver for SQL engingine - eg: psycopg2, pymysql etc\n\n# use sqlalchamy lib to connect SQL engine with its driver  --> connects python with SQL engine, so python can communicate with SQL db\n         #-----> refer docs on sqlalchemey for more\n# using sqlalchemy driver connection with SQL engine ---> we can pandas read sql mettod to work with SQL DB\n\n# Nb-pandas can ead entire tables in SQL as datafrmes, OR --> we can pass & parse SQL qury commnad & only get subset of what columns we want in tables as dataframes\n\n### REfer --> online docs on SPecif SQL engines + pandas for moe --> SQLalchemy + dialects docs",
      "metadata": {
        "trusted": true
      },
      "outputs": [],
      "execution_count": 10
    },
    {
      "cell_type": "code",
      "source": "# we ll use SQLite --> comes built in with python -- we can tempory SQLdatabase in ram \n\nimport numpy as np\nimport pandas as pd",
      "metadata": {
        "trusted": true
      },
      "outputs": [],
      "execution_count": 13
    },
    {
      "cell_type": "code",
      "source": "# install sqlalchemy lib\n\nfrom sqlalchemy import create_engine ",
      "metadata": {
        "trusted": true
      },
      "outputs": [],
      "execution_count": 11
    },
    {
      "cell_type": "code",
      "source": "temp_db = create_engine('sqlite:///:memory:')  # ---> **connect engine in sqlachemy & creates a temp sqlite db on ram with no datas\n\n#NB --> we ll have pass in this connetion everytime in pandas method to read & write as pandas dataframe from sql database table ",
      "metadata": {
        "trusted": true
      },
      "outputs": [],
      "execution_count": 32
    },
    {
      "cell_type": "code",
      "source": "df = pd.DataFrame(data= np.random.randint(low=0, high=40, size=(4,4)), columns=['a','b','c','d']) # --> create random dataframe table using numpy & pandas ",
      "metadata": {
        "trusted": true
      },
      "outputs": [],
      "execution_count": 14
    },
    {
      "cell_type": "code",
      "source": "df",
      "metadata": {
        "trusted": true
      },
      "outputs": [
        {
          "execution_count": 15,
          "output_type": "execute_result",
          "data": {
            "text/plain": "    a   b   c   d\n0   6  28  11  14\n1  37  31  20   7\n2  14  25  20  10\n3  38  10  26   9",
            "text/html": "<div>\n<style scoped>\n    .dataframe tbody tr th:only-of-type {\n        vertical-align: middle;\n    }\n\n    .dataframe tbody tr th {\n        vertical-align: top;\n    }\n\n    .dataframe thead th {\n        text-align: right;\n    }\n</style>\n<table border=\"1\" class=\"dataframe\">\n  <thead>\n    <tr style=\"text-align: right;\">\n      <th></th>\n      <th>a</th>\n      <th>b</th>\n      <th>c</th>\n      <th>d</th>\n    </tr>\n  </thead>\n  <tbody>\n    <tr>\n      <th>0</th>\n      <td>6</td>\n      <td>28</td>\n      <td>11</td>\n      <td>14</td>\n    </tr>\n    <tr>\n      <th>1</th>\n      <td>37</td>\n      <td>31</td>\n      <td>20</td>\n      <td>7</td>\n    </tr>\n    <tr>\n      <th>2</th>\n      <td>14</td>\n      <td>25</td>\n      <td>20</td>\n      <td>10</td>\n    </tr>\n    <tr>\n      <th>3</th>\n      <td>38</td>\n      <td>10</td>\n      <td>26</td>\n      <td>9</td>\n    </tr>\n  </tbody>\n</table>\n</div>"
          },
          "metadata": {}
        }
      ],
      "execution_count": 15
    },
    {
      "cell_type": "code",
      "source": "#Adding/writing/creating  new data tables with dats to sqlite db with pandas\n\n\ndf.to_sql(name='new_table', con=temp_db) #----> crete new tabular data call new_table from pandas dataframe df table",
      "metadata": {
        "trusted": true
      },
      "outputs": [
        {
          "execution_count": 18,
          "output_type": "execute_result",
          "data": {
            "text/plain": "4"
          },
          "metadata": {}
        }
      ],
      "execution_count": 18
    },
    {
      "cell_type": "code",
      "source": "#df.to_sql(name='new_table', con=temp_db) #-->** gives Value error since table call new_table already exist & it can be dangerous to overwrite entire table \n\n#--> by deafult *if_exist option is set to *False, other option are *replace & *append --> shift + tab on .to_sql() for more info ",
      "metadata": {
        "trusted": true
      },
      "outputs": [],
      "execution_count": 22
    },
    {
      "cell_type": "code",
      "source": "# read from Sql db --> read entire table at once or grab parts of it using SQl qurery in pandas\n\nnew_df = pd.read_sql(sql='new_table', con=temp_db)  #---> reads entire sql table ",
      "metadata": {
        "trusted": true
      },
      "outputs": [],
      "execution_count": 26
    },
    {
      "cell_type": "code",
      "source": "new_df  # ---> returns entire sql table data coulmn",
      "metadata": {
        "trusted": true
      },
      "outputs": [
        {
          "execution_count": 27,
          "output_type": "execute_result",
          "data": {
            "text/plain": "   index   a   b   c   d\n0      0   6  28  11  14\n1      1  37  31  20   7\n2      2  14  25  20  10\n3      3  38  10  26   9",
            "text/html": "<div>\n<style scoped>\n    .dataframe tbody tr th:only-of-type {\n        vertical-align: middle;\n    }\n\n    .dataframe tbody tr th {\n        vertical-align: top;\n    }\n\n    .dataframe thead th {\n        text-align: right;\n    }\n</style>\n<table border=\"1\" class=\"dataframe\">\n  <thead>\n    <tr style=\"text-align: right;\">\n      <th></th>\n      <th>index</th>\n      <th>a</th>\n      <th>b</th>\n      <th>c</th>\n      <th>d</th>\n    </tr>\n  </thead>\n  <tbody>\n    <tr>\n      <th>0</th>\n      <td>0</td>\n      <td>6</td>\n      <td>28</td>\n      <td>11</td>\n      <td>14</td>\n    </tr>\n    <tr>\n      <th>1</th>\n      <td>1</td>\n      <td>37</td>\n      <td>31</td>\n      <td>20</td>\n      <td>7</td>\n    </tr>\n    <tr>\n      <th>2</th>\n      <td>2</td>\n      <td>14</td>\n      <td>25</td>\n      <td>20</td>\n      <td>10</td>\n    </tr>\n    <tr>\n      <th>3</th>\n      <td>3</td>\n      <td>38</td>\n      <td>10</td>\n      <td>26</td>\n      <td>9</td>\n    </tr>\n  </tbody>\n</table>\n</div>"
          },
          "metadata": {}
        }
      ],
      "execution_count": 27
    },
    {
      "cell_type": "code",
      "source": "# SQL query ---> reading only what we from SQl table\n\nres_ddf = pd.read_sql_query(sql='SELECT a,d FROM new_table', con=temp_db)  #---> making sql query to grab only column a & d from sql table in pandas",
      "metadata": {
        "trusted": true
      },
      "outputs": [],
      "execution_count": 29
    },
    {
      "cell_type": "code",
      "source": "res_ddf  # ---> pandas df with a & d column data from sql table",
      "metadata": {
        "trusted": true
      },
      "outputs": [
        {
          "execution_count": 30,
          "output_type": "execute_result",
          "data": {
            "text/plain": "    a   d\n0   6  14\n1  37   7\n2  14  10\n3  38   9",
            "text/html": "<div>\n<style scoped>\n    .dataframe tbody tr th:only-of-type {\n        vertical-align: middle;\n    }\n\n    .dataframe tbody tr th {\n        vertical-align: top;\n    }\n\n    .dataframe thead th {\n        text-align: right;\n    }\n</style>\n<table border=\"1\" class=\"dataframe\">\n  <thead>\n    <tr style=\"text-align: right;\">\n      <th></th>\n      <th>a</th>\n      <th>d</th>\n    </tr>\n  </thead>\n  <tbody>\n    <tr>\n      <th>0</th>\n      <td>6</td>\n      <td>14</td>\n    </tr>\n    <tr>\n      <th>1</th>\n      <td>37</td>\n      <td>7</td>\n    </tr>\n    <tr>\n      <th>2</th>\n      <td>14</td>\n      <td>10</td>\n    </tr>\n    <tr>\n      <th>3</th>\n      <td>38</td>\n      <td>9</td>\n    </tr>\n  </tbody>\n</table>\n</div>"
          },
          "metadata": {}
        }
      ],
      "execution_count": 30
    },
    {
      "cell_type": "code",
      "source": "# NB --> sometimes it is easier libraries for SQL directly instead of using it with pandas which depends on what we want to do, eg- PgAdmin for postgresdb\n\n#--> thats it for SQL tables data io with pandas dataframe :)",
      "metadata": {
        "trusted": true
      },
      "outputs": [],
      "execution_count": 33
    }
  ]
}